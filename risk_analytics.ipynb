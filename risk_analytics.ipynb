{
 "cells": [
  {
   "cell_type": "markdown",
   "id": "5401daea",
   "metadata": {},
   "source": [
    "Loading and Inspecting the dataset"
   ]
  },
  {
   "cell_type": "code",
   "execution_count": null,
   "id": "dac55c72",
   "metadata": {},
   "outputs": [],
   "source": [
    "import pandas as pd\n",
    "\n",
    "file_path = './data/MachineLearningRating_v3.txt'\n",
    "\n",
    "try:\n",
    "    # 'on_bad_lines' skips rows with parsing errors.\n",
    "    # 'encoding' helps with special characters.\n",
    "    # 'low_memory=False' can help with mixed data type issues in large files.\n",
    "    df = pd.read_csv(file_path, sep='\\t', on_bad_lines='skip', encoding='latin1', low_memory=False)\n",
    "    \n",
    "    print(\"--- Data Loaded Successfully ---\")\n",
    "    print(f\"Dataset contains {df.shape[0]} rows and {df.shape[1]} columns.\")\n",
    "    \n",
    "    # Display the first few rows to get a feel for the data\n",
    "    print(\"\\n--- First 5 Rows of the Dataset ---\")\n",
    "    print(df.head())\n",
    "    \n",
    "    # Display column names and data types\n",
    "    print(\"\\n--- Dataset Info ---\")\n",
    "    df.info()\n",
    "\n",
    "except FileNotFoundError:\n",
    "    print(f\"Error: The file '{file_path}' was not found. Please ensure it's in the correct directory.\")\n"
   ]
  },
  {
   "cell_type": "markdown",
   "id": "f42c202c",
   "metadata": {},
   "source": [
    "Data Cleaning and Feature Engineering"
   ]
  },
  {
   "cell_type": "code",
   "execution_count": null,
   "id": "ea71e12f",
   "metadata": {},
   "outputs": [],
   "source": [
    "print(\"\\n--- Starting Step 2: Data Cleaning and Feature Engineering ---\")\n",
    "\n",
    "# 1. Convert key numeric columns to numbers, coercing errors to 'Not a Number' (NaN)\n",
    "df['TotalClaims'] = pd.to_numeric(df['TotalClaims'], errors='coerce')\n",
    "df['TotalPremium'] = pd.to_numeric(df['TotalPremium'], errors='coerce')\n",
    "\n",
    "# 2. Drop rows where these key columns are missing, as they are crucial for analysis\n",
    "df.dropna(subset=['TotalClaims', 'TotalPremium'], inplace=True)\n",
    "\n",
    "# 3. Engineer 'HasClaim' feature: 1 if a claim was made, 0 otherwise. This is our primary risk indicator.\n",
    "df['HasClaim'] = (df['TotalClaims'] > 0).astype(int)\n",
    "\n",
    "# 4. Engineer 'Margin' feature: This represents the profit or loss on a policy.\n",
    "df['Margin'] = df['TotalPremium'] - df['TotalClaims']\n",
    "\n",
    "# 5. Clean key categorical columns for consistency\n",
    "for col in ['Gender', 'Province', 'PostalCode']:\n",
    "    if col in df.columns:\n",
    "        df.dropna(subset=[col], inplace=True)\n",
    "        df[col] = df[col].astype(str).str.strip()\n",
    "\n",
    "print(\"--- Data Cleaning and Feature Engineering Complete ---\")\n",
    "print(f\"Dataset shape after cleaning: {df.shape}\")\n",
    "print(\"New columns 'HasClaim' and 'Margin' created.\")"
   ]
  }
 ],
 "metadata": {
  "kernelspec": {
   "display_name": ".venv",
   "language": "python",
   "name": "python3"
  },
  "language_info": {
   "name": "python",
   "version": "3.11.2"
  }
 },
 "nbformat": 4,
 "nbformat_minor": 5
}
