{
 "cells": [
  {
   "cell_type": "code",
   "execution_count": null,
   "id": "776bf1cd",
   "metadata": {},
   "outputs": [],
   "source": [
    "# Cell 1: Import necessary libraries\n",
    "import pandas as pd\n",
    "from scipy import stats\n",
    "import numpy as np\n"
   ]
  },
  {
   "cell_type": "code",
   "execution_count": null,
   "id": "99a859b4",
   "metadata": {},
   "outputs": [],
   "source": [
    "# Cell 2: Load the dataset\n",
    "file_path = './data/MachineLearningRating_v3.txt'\n",
    "df = pd.read_csv(file_path, delimiter='|')  # Adjust delimiter if needed\n",
    "df.head()\n"
   ]
  },
  {
   "cell_type": "code",
   "execution_count": null,
   "id": "044dc55b",
   "metadata": {},
   "outputs": [],
   "source": [
    "# Cell 3: Function to calculate claim frequency, severity, and margin\n",
    "def calculate_risk_metrics(df):\n",
    "    \"\"\"Calculates Claim Frequency, Claim Severity, and Margin.\"\"\"\n",
    "    df['ClaimOccurred'] = (df['TotalClaims'] > 0).astype(int)\n",
    "    df['ClaimFrequency'] = df['ClaimOccurred']\n",
    "    df['ClaimSeverity'] = df['TotalClaims'].where(df['ClaimOccurred'] == 1)\n",
    "    df['Margin'] = df['TotalPremium'] - df['TotalClaims']\n",
    "    return df\n",
    "\n",
    "# Apply calculation\n",
    "df = calculate_risk_metrics(df)\n",
    "df[['TotalPremium', 'TotalClaims', 'ClaimOccurred', 'ClaimFrequency', 'ClaimSeverity', 'Margin']].head()\n"
   ]
  },
  {
   "cell_type": "code",
   "execution_count": null,
   "id": "5e664ddc",
   "metadata": {},
   "outputs": [],
   "source": [
    "# Cell 4: T-test for numerical comparisons\n",
    "def perform_t_test(group1_data, group2_data, alpha=0.05):\n",
    "    \"\"\"Performs independent t-test for numerical data.\"\"\"\n",
    "    stat, p_value = stats.ttest_ind(group1_data.dropna(), group2_data.dropna(), equal_var=False)  # Welch's t-test\n",
    "    return stat, p_value, p_value < alpha\n"
   ]
  },
  {
   "cell_type": "code",
   "execution_count": null,
   "id": "3962f63a",
   "metadata": {},
   "outputs": [],
   "source": [
    "# Cell 5: Chi-squared test for categorical comparisons\n",
    "def perform_chi_squared_test(group1_claims_occurred, group1_no_claims,\n",
    "                             group2_claims_occurred, group2_no_claims, alpha=0.05):\n",
    "    \"\"\"Performs Chi-squared test for Claim Frequency.\"\"\"\n",
    "    contingency_table = np.array([[group1_claims_occurred, group1_no_claims],\n",
    "                                  [group2_claims_occurred, group2_no_claims]])\n",
    "    chi2_stat, p_value, _, _ = stats.chi2_contingency(contingency_table)\n",
    "    return chi2_stat, p_value, p_value < alpha\n"
   ]
  }
 ],
 "metadata": {
  "kernelspec": {
   "display_name": ".venv",
   "language": "python",
   "name": "python3"
  },
  "language_info": {
   "name": "python",
   "version": "3.11.2"
  }
 },
 "nbformat": 4,
 "nbformat_minor": 5
}
