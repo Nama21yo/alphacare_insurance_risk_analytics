{
 "cells": [
  {
   "cell_type": "code",
   "execution_count": null,
   "id": "776bf1cd",
   "metadata": {},
   "outputs": [],
   "source": [
    "# Cell 1: Import necessary libraries\n",
    "import pandas as pd\n",
    "from scipy import stats\n",
    "import numpy as np\n"
   ]
  },
  {
   "cell_type": "code",
   "execution_count": null,
   "id": "99a859b4",
   "metadata": {},
   "outputs": [],
   "source": [
    "# Cell 2: Load the dataset\n",
    "file_path = './data/MachineLearningRating_v3.txt'\n",
    "df = pd.read_csv(file_path, delimiter='|')  # Adjust delimiter if needed\n",
    "df.head()\n"
   ]
  },
  {
   "cell_type": "code",
   "execution_count": null,
   "id": "044dc55b",
   "metadata": {},
   "outputs": [],
   "source": [
    "# Cell 3: Function to calculate claim frequency, severity, and margin\n",
    "def calculate_risk_metrics(df):\n",
    "    \"\"\"Calculates Claim Frequency, Claim Severity, and Margin.\"\"\"\n",
    "    df['ClaimOccurred'] = (df['TotalClaims'] > 0).astype(int)\n",
    "    df['ClaimFrequency'] = df['ClaimOccurred']\n",
    "    df['ClaimSeverity'] = df['TotalClaims'].where(df['ClaimOccurred'] == 1)\n",
    "    df['Margin'] = df['TotalPremium'] - df['TotalClaims']\n",
    "    return df\n",
    "\n",
    "# Apply calculation\n",
    "df = calculate_risk_metrics(df)\n",
    "df[['TotalPremium', 'TotalClaims', 'ClaimOccurred', 'ClaimFrequency', 'ClaimSeverity', 'Margin']].head()\n"
   ]
  }
 ],
 "metadata": {
  "kernelspec": {
   "display_name": ".venv",
   "language": "python",
   "name": "python3"
  },
  "language_info": {
   "name": "python",
   "version": "3.11.2"
  }
 },
 "nbformat": 4,
 "nbformat_minor": 5
}
